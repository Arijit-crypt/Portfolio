{
 "cells": [
  {
   "cell_type": "markdown",
   "id": "78f684c5",
   "metadata": {},
   "source": [
    "# 1. Importing Libraries"
   ]
  },
  {
   "cell_type": "code",
   "execution_count": 29,
   "id": "6576c3e7",
   "metadata": {},
   "outputs": [],
   "source": [
    "import pandas as pd\n",
    "import numpy as np\n",
    "import matplotlib.pyplot as plt\n",
    "import seaborn as sns\n",
    "\n",
    "%matplotlib inline"
   ]
  },
  {
   "cell_type": "markdown",
   "id": "aab1c96a",
   "metadata": {},
   "source": [
    "# 2. Reviewing the training dataset"
   ]
  },
  {
   "cell_type": "code",
   "execution_count": 30,
   "id": "80506524",
   "metadata": {},
   "outputs": [
    {
     "data": {
      "text/html": [
       "<div>\n",
       "<style scoped>\n",
       "    .dataframe tbody tr th:only-of-type {\n",
       "        vertical-align: middle;\n",
       "    }\n",
       "\n",
       "    .dataframe tbody tr th {\n",
       "        vertical-align: top;\n",
       "    }\n",
       "\n",
       "    .dataframe thead th {\n",
       "        text-align: right;\n",
       "    }\n",
       "</style>\n",
       "<table border=\"1\" class=\"dataframe\">\n",
       "  <thead>\n",
       "    <tr style=\"text-align: right;\">\n",
       "      <th></th>\n",
       "      <th>id</th>\n",
       "      <th>gender</th>\n",
       "      <th>area</th>\n",
       "      <th>qualification</th>\n",
       "      <th>income</th>\n",
       "      <th>marital_status</th>\n",
       "      <th>vintage</th>\n",
       "      <th>claim_amount</th>\n",
       "      <th>num_policies</th>\n",
       "      <th>policy</th>\n",
       "      <th>type_of_policy</th>\n",
       "      <th>cltv</th>\n",
       "    </tr>\n",
       "  </thead>\n",
       "  <tbody>\n",
       "    <tr>\n",
       "      <th>0</th>\n",
       "      <td>1</td>\n",
       "      <td>Male</td>\n",
       "      <td>Urban</td>\n",
       "      <td>Bachelor</td>\n",
       "      <td>5L-10L</td>\n",
       "      <td>1</td>\n",
       "      <td>5</td>\n",
       "      <td>5790</td>\n",
       "      <td>More than 1</td>\n",
       "      <td>A</td>\n",
       "      <td>Platinum</td>\n",
       "      <td>64308</td>\n",
       "    </tr>\n",
       "    <tr>\n",
       "      <th>1</th>\n",
       "      <td>2</td>\n",
       "      <td>Male</td>\n",
       "      <td>Rural</td>\n",
       "      <td>High School</td>\n",
       "      <td>5L-10L</td>\n",
       "      <td>0</td>\n",
       "      <td>8</td>\n",
       "      <td>5080</td>\n",
       "      <td>More than 1</td>\n",
       "      <td>A</td>\n",
       "      <td>Platinum</td>\n",
       "      <td>515400</td>\n",
       "    </tr>\n",
       "    <tr>\n",
       "      <th>2</th>\n",
       "      <td>3</td>\n",
       "      <td>Male</td>\n",
       "      <td>Urban</td>\n",
       "      <td>Bachelor</td>\n",
       "      <td>5L-10L</td>\n",
       "      <td>1</td>\n",
       "      <td>8</td>\n",
       "      <td>2599</td>\n",
       "      <td>More than 1</td>\n",
       "      <td>A</td>\n",
       "      <td>Platinum</td>\n",
       "      <td>64212</td>\n",
       "    </tr>\n",
       "    <tr>\n",
       "      <th>3</th>\n",
       "      <td>4</td>\n",
       "      <td>Female</td>\n",
       "      <td>Rural</td>\n",
       "      <td>High School</td>\n",
       "      <td>5L-10L</td>\n",
       "      <td>0</td>\n",
       "      <td>7</td>\n",
       "      <td>0</td>\n",
       "      <td>More than 1</td>\n",
       "      <td>A</td>\n",
       "      <td>Platinum</td>\n",
       "      <td>97920</td>\n",
       "    </tr>\n",
       "    <tr>\n",
       "      <th>4</th>\n",
       "      <td>5</td>\n",
       "      <td>Male</td>\n",
       "      <td>Urban</td>\n",
       "      <td>High School</td>\n",
       "      <td>More than 10L</td>\n",
       "      <td>1</td>\n",
       "      <td>6</td>\n",
       "      <td>3508</td>\n",
       "      <td>More than 1</td>\n",
       "      <td>A</td>\n",
       "      <td>Gold</td>\n",
       "      <td>59736</td>\n",
       "    </tr>\n",
       "  </tbody>\n",
       "</table>\n",
       "</div>"
      ],
      "text/plain": [
       "   id  gender   area qualification         income  marital_status  vintage  \\\n",
       "0   1    Male  Urban      Bachelor         5L-10L               1        5   \n",
       "1   2    Male  Rural   High School         5L-10L               0        8   \n",
       "2   3    Male  Urban      Bachelor         5L-10L               1        8   \n",
       "3   4  Female  Rural   High School         5L-10L               0        7   \n",
       "4   5    Male  Urban   High School  More than 10L               1        6   \n",
       "\n",
       "   claim_amount num_policies policy type_of_policy    cltv  \n",
       "0          5790  More than 1      A       Platinum   64308  \n",
       "1          5080  More than 1      A       Platinum  515400  \n",
       "2          2599  More than 1      A       Platinum   64212  \n",
       "3             0  More than 1      A       Platinum   97920  \n",
       "4          3508  More than 1      A           Gold   59736  "
      ]
     },
     "execution_count": 30,
     "metadata": {},
     "output_type": "execute_result"
    }
   ],
   "source": [
    "train_df = pd.read_csv('train_file.csv')\n",
    "train_df.head()"
   ]
  },
  {
   "cell_type": "code",
   "execution_count": 31,
   "id": "0a419dd1",
   "metadata": {
    "scrolled": true
   },
   "outputs": [
    {
     "name": "stdout",
     "output_type": "stream",
     "text": [
      "<class 'pandas.core.frame.DataFrame'>\n",
      "RangeIndex: 89392 entries, 0 to 89391\n",
      "Data columns (total 12 columns):\n",
      " #   Column          Non-Null Count  Dtype \n",
      "---  ------          --------------  ----- \n",
      " 0   id              89392 non-null  int64 \n",
      " 1   gender          89392 non-null  object\n",
      " 2   area            89392 non-null  object\n",
      " 3   qualification   89392 non-null  object\n",
      " 4   income          89392 non-null  object\n",
      " 5   marital_status  89392 non-null  int64 \n",
      " 6   vintage         89392 non-null  int64 \n",
      " 7   claim_amount    89392 non-null  int64 \n",
      " 8   num_policies    89392 non-null  object\n",
      " 9   policy          89392 non-null  object\n",
      " 10  type_of_policy  89392 non-null  object\n",
      " 11  cltv            89392 non-null  int64 \n",
      "dtypes: int64(5), object(7)\n",
      "memory usage: 8.2+ MB\n"
     ]
    }
   ],
   "source": [
    "train_df.info()"
   ]
  },
  {
   "cell_type": "markdown",
   "id": "81e6c300",
   "metadata": {},
   "source": [
    "### Encoding the categorical data"
   ]
  },
  {
   "cell_type": "code",
   "execution_count": 32,
   "id": "fcc0b6f3",
   "metadata": {},
   "outputs": [
    {
     "name": "stdout",
     "output_type": "stream",
     "text": [
      "Male      50497\n",
      "Female    38895\n",
      "Name: gender, dtype: int64 \n",
      "\n",
      "Urban    62455\n",
      "Rural    26937\n",
      "Name: area, dtype: int64 \n",
      "\n",
      "High School    46247\n",
      "Bachelor       39399\n",
      "Others          3746\n",
      "Name: qualification, dtype: int64 \n",
      "\n",
      "5L-10L           52716\n",
      "2L-5L            21158\n",
      "More than 10L    13664\n",
      "<=2L              1854\n",
      "Name: income, dtype: int64 \n",
      "\n",
      "More than 1    60263\n",
      "1              29129\n",
      "Name: num_policies, dtype: int64 \n",
      "\n",
      "A    56644\n",
      "B    24635\n",
      "C     8113\n",
      "Name: policy, dtype: int64 \n",
      "\n",
      "Platinum    47796\n",
      "Silver      21010\n",
      "Gold        20586\n",
      "Name: type_of_policy, dtype: int64 \n",
      "\n"
     ]
    }
   ],
   "source": [
    "col_to_encode = ['gender', 'area', 'qualification', 'income', 'num_policies', 'policy', 'type_of_policy']\n",
    "\n",
    "for col in col_to_encode:\n",
    "    print(train_df[col].value_counts(), '\\n')"
   ]
  },
  {
   "cell_type": "code",
   "execution_count": 33,
   "id": "4ee486b6",
   "metadata": {},
   "outputs": [],
   "source": [
    "encoding_dict = {\n",
    "    'gender_dict' : {'Male': 0, 'Female': 1}, \n",
    "    'area_dict' : {'Rural': 0, 'Urban': 1}, \n",
    "    'qualification_dict' : {'Others': 0, 'High School': 1, 'Bachelor': 2}, \n",
    "    'income_dict' : {'<=2L': 0, '2L-5L': 1, '5L-10L': 2, 'More than 10L': 3}, \n",
    "    'num_policies_dict' : {'1': 0, 'More than 1': 1}, \n",
    "    'policy_dict' : {'A': 0, 'B': 1, 'C': 2}, \n",
    "    'type_of_policy_dict' : {'Silver': 0, 'Gold': 1, 'Platinum': 2}\n",
    "}\n",
    "\n",
    "for col in col_to_encode:\n",
    "    train_df[col] = train_df[col].map(encoding_dict[f'{col}_dict'])"
   ]
  },
  {
   "cell_type": "code",
   "execution_count": 34,
   "id": "f9a74d9e",
   "metadata": {},
   "outputs": [
    {
     "data": {
      "text/plain": [
       "<AxesSubplot:>"
      ]
     },
     "execution_count": 34,
     "metadata": {},
     "output_type": "execute_result"
    },
    {
     "data": {
      "image/png": "[encoded data removed]",
      "text/plain": [
       "<Figure size 640x480 with 2 Axes>"
      ]
     },
     "metadata": {},
     "output_type": "display_data"
    }
   ],
   "source": [
    "sns.heatmap(train_df.drop(['id'], axis=1).corr())"
   ]
  },
  {
   "cell_type": "markdown",
   "id": "4ec39c49",
   "metadata": {},
   "source": [
    "# 3. Preparing ML model"
   ]
  },
  {
   "cell_type": "code",
   "execution_count": 35,
   "id": "7edcbdc8",
   "metadata": {},
   "outputs": [
    {
     "name": "stdout",
     "output_type": "stream",
     "text": [
      "Fitting 8 folds for each of 4 candidates, totalling 32 fits\n"
     ]
    },
    {
     "data": {
      "text/plain": [
       "GridSearchCV(cv=8, estimator=LinearRegression(), n_jobs=-1,\n",
       "             param_grid={'n_jobs': [1, 2, 5, 10]}, scoring='r2', verbose=1)"
      ]
     },
     "execution_count": 35,
     "metadata": {},
     "output_type": "execute_result"
    }
   ],
   "source": [
    "from sklearn.preprocessing import PolynomialFeatures, MinMaxScaler\n",
    "from sklearn.linear_model import LinearRegression\n",
    "from sklearn.model_selection import GridSearchCV\n",
    "\n",
    "poly = PolynomialFeatures(degree=3, include_bias=False)\n",
    "\n",
    "X = train_df.drop(['id', 'cltv'], axis=1)\n",
    "y = train_df['cltv']\n",
    "\n",
    "scaler = MinMaxScaler()\n",
    "scaled_X = scaler.fit_transform(X)\n",
    "poly_features = poly.fit_transform(scaled_X)\n",
    "\n",
    "lr = LinearRegression()\n",
    "\n",
    "params_lr = {\n",
    "    'n_jobs': [1, 2, 5, 10]\n",
    "}\n",
    "lr_gs = GridSearchCV(estimator=lr, param_grid=params_lr, scoring='r2', cv=8, n_jobs=-1, verbose=1)\n",
    "\n",
    "lr_gs.fit(poly_features, y)"
   ]
  },
  {
   "cell_type": "code",
   "execution_count": 36,
   "id": "5efbe308",
   "metadata": {},
   "outputs": [
    {
     "name": "stdout",
     "output_type": "stream",
     "text": [
      "LinearRegression(n_jobs=1)\n",
      "0.15845866555072277\n"
     ]
    }
   ],
   "source": [
    "print(lr_gs.best_estimator_)\n",
    "print(lr_gs.best_score_)"
   ]
  },
  {
   "cell_type": "markdown",
   "id": "12079e5f",
   "metadata": {},
   "source": [
    "# 4. Testing the model on the testing dataset and getting the predictions"
   ]
  },
  {
   "cell_type": "code",
   "execution_count": 37,
   "id": "ce57f84a",
   "metadata": {},
   "outputs": [
    {
     "data": {
      "text/html": [
       "<div>\n",
       "<style scoped>\n",
       "    .dataframe tbody tr th:only-of-type {\n",
       "        vertical-align: middle;\n",
       "    }\n",
       "\n",
       "    .dataframe tbody tr th {\n",
       "        vertical-align: top;\n",
       "    }\n",
       "\n",
       "    .dataframe thead th {\n",
       "        text-align: right;\n",
       "    }\n",
       "</style>\n",
       "<table border=\"1\" class=\"dataframe\">\n",
       "  <thead>\n",
       "    <tr style=\"text-align: right;\">\n",
       "      <th></th>\n",
       "      <th>id</th>\n",
       "      <th>gender</th>\n",
       "      <th>area</th>\n",
       "      <th>qualification</th>\n",
       "      <th>income</th>\n",
       "      <th>marital_status</th>\n",
       "      <th>vintage</th>\n",
       "      <th>claim_amount</th>\n",
       "      <th>num_policies</th>\n",
       "      <th>policy</th>\n",
       "      <th>type_of_policy</th>\n",
       "    </tr>\n",
       "  </thead>\n",
       "  <tbody>\n",
       "    <tr>\n",
       "      <th>0</th>\n",
       "      <td>89393</td>\n",
       "      <td>1</td>\n",
       "      <td>0</td>\n",
       "      <td>1</td>\n",
       "      <td>2</td>\n",
       "      <td>0</td>\n",
       "      <td>6</td>\n",
       "      <td>2134</td>\n",
       "      <td>1</td>\n",
       "      <td>1</td>\n",
       "      <td>0</td>\n",
       "    </tr>\n",
       "    <tr>\n",
       "      <th>1</th>\n",
       "      <td>89394</td>\n",
       "      <td>1</td>\n",
       "      <td>1</td>\n",
       "      <td>1</td>\n",
       "      <td>1</td>\n",
       "      <td>0</td>\n",
       "      <td>4</td>\n",
       "      <td>4102</td>\n",
       "      <td>1</td>\n",
       "      <td>0</td>\n",
       "      <td>2</td>\n",
       "    </tr>\n",
       "    <tr>\n",
       "      <th>2</th>\n",
       "      <td>89395</td>\n",
       "      <td>0</td>\n",
       "      <td>0</td>\n",
       "      <td>1</td>\n",
       "      <td>2</td>\n",
       "      <td>1</td>\n",
       "      <td>7</td>\n",
       "      <td>2925</td>\n",
       "      <td>1</td>\n",
       "      <td>1</td>\n",
       "      <td>1</td>\n",
       "    </tr>\n",
       "    <tr>\n",
       "      <th>3</th>\n",
       "      <td>89396</td>\n",
       "      <td>1</td>\n",
       "      <td>0</td>\n",
       "      <td>2</td>\n",
       "      <td>3</td>\n",
       "      <td>1</td>\n",
       "      <td>2</td>\n",
       "      <td>0</td>\n",
       "      <td>1</td>\n",
       "      <td>1</td>\n",
       "      <td>0</td>\n",
       "    </tr>\n",
       "    <tr>\n",
       "      <th>4</th>\n",
       "      <td>89397</td>\n",
       "      <td>1</td>\n",
       "      <td>1</td>\n",
       "      <td>1</td>\n",
       "      <td>1</td>\n",
       "      <td>0</td>\n",
       "      <td>5</td>\n",
       "      <td>14059</td>\n",
       "      <td>1</td>\n",
       "      <td>1</td>\n",
       "      <td>0</td>\n",
       "    </tr>\n",
       "  </tbody>\n",
       "</table>\n",
       "</div>"
      ],
      "text/plain": [
       "      id  gender  area  qualification  income  marital_status  vintage  \\\n",
       "0  89393       1     0              1       2               0        6   \n",
       "1  89394       1     1              1       1               0        4   \n",
       "2  89395       0     0              1       2               1        7   \n",
       "3  89396       1     0              2       3               1        2   \n",
       "4  89397       1     1              1       1               0        5   \n",
       "\n",
       "   claim_amount  num_policies  policy  type_of_policy  \n",
       "0          2134             1       1               0  \n",
       "1          4102             1       0               2  \n",
       "2          2925             1       1               1  \n",
       "3             0             1       1               0  \n",
       "4         14059             1       1               0  "
      ]
     },
     "execution_count": 37,
     "metadata": {},
     "output_type": "execute_result"
    }
   ],
   "source": [
    "test_df = pd.read_csv('test_file.csv')\n",
    "\n",
    "for col in col_to_encode:\n",
    "    test_df[col] = test_df[col].map(encoding_dict[f'{col}_dict'])\n",
    "    \n",
    "test_df.head()"
   ]
  },
  {
   "cell_type": "code",
   "execution_count": 38,
   "id": "94d41e31",
   "metadata": {},
   "outputs": [],
   "source": [
    "pred = np.round(lr_gs.predict(poly.fit_transform(scaler.fit_transform(test_df.drop(['id'], axis=1)))))\n",
    "output_file = pd.DataFrame({'id': test_df['id'], 'cltv':pred})\n",
    "output_file.to_csv(\"Prediction.csv\", index=False)"
   ]
  }
 ],
 "metadata": {
  "kernelspec": {
   "display_name": "Python 3 (ipykernel)",
   "language": "python",
   "name": "python3"
  },
  "language_info": {
   "codemirror_mode": {
    "name": "ipython",
    "version": 3
   },
   "file_extension": ".py",
   "mimetype": "text/x-python",
   "name": "python",
   "nbconvert_exporter": "python",
   "pygments_lexer": "ipython3",
   "version": "3.9.13"
  }
 },
 "nbformat": 4,
 "nbformat_minor": 5
}
