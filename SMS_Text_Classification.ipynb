{
  "cells": [
    {
      "cell_type": "markdown",
      "metadata": {
        "id": "view-in-github",
        "colab_type": "text"
      },
      "source": [
        "<a href=\"https://colab.research.google.com/github/Arijit-crypt/Portfolio/blob/main/SMS_Text_Classification.ipynb\" target=\"_parent\"><img src=\"https://colab.research.google.com/assets/colab-badge.svg\" alt=\"Open In Colab\"/></a>"
      ]
    },
    {
      "cell_type": "code",
      "execution_count": 1,
      "metadata": {
        "id": "8RZOuS9LWQvv",
        "colab": {
          "base_uri": "https://localhost:8080/"
        },
        "outputId": "9d91b336-cf11-40ef-e2a8-74ecffe733a4"
      },
      "outputs": [
        {
          "output_type": "stream",
          "name": "stdout",
          "text": [
            "Looking in indexes: https://pypi.org/simple, https://us-python.pkg.dev/colab-wheels/public/simple/\n",
            "Requirement already satisfied: tensorflow-datasets in /usr/local/lib/python3.8/dist-packages (4.8.3)\n",
            "Requirement already satisfied: promise in /usr/local/lib/python3.8/dist-packages (from tensorflow-datasets) (2.3)\n",
            "Requirement already satisfied: click in /usr/local/lib/python3.8/dist-packages (from tensorflow-datasets) (8.1.3)\n",
            "Requirement already satisfied: importlib-resources in /usr/local/lib/python3.8/dist-packages (from tensorflow-datasets) (5.12.0)\n",
            "Requirement already satisfied: absl-py in /usr/local/lib/python3.8/dist-packages (from tensorflow-datasets) (1.4.0)\n",
            "Requirement already satisfied: termcolor in /usr/local/lib/python3.8/dist-packages (from tensorflow-datasets) (2.2.0)\n",
            "Requirement already satisfied: dm-tree in /usr/local/lib/python3.8/dist-packages (from tensorflow-datasets) (0.1.8)\n",
            "Requirement already satisfied: psutil in /usr/local/lib/python3.8/dist-packages (from tensorflow-datasets) (5.4.8)\n",
            "Requirement already satisfied: etils[enp,epath]>=0.9.0 in /usr/local/lib/python3.8/dist-packages (from tensorflow-datasets) (1.0.0)\n",
            "Requirement already satisfied: tqdm in /usr/local/lib/python3.8/dist-packages (from tensorflow-datasets) (4.64.1)\n",
            "Requirement already satisfied: requests>=2.19.0 in /usr/local/lib/python3.8/dist-packages (from tensorflow-datasets) (2.25.1)\n",
            "Requirement already satisfied: numpy in /usr/local/lib/python3.8/dist-packages (from tensorflow-datasets) (1.22.4)\n",
            "Requirement already satisfied: toml in /usr/local/lib/python3.8/dist-packages (from tensorflow-datasets) (0.10.2)\n",
            "Requirement already satisfied: wrapt in /usr/local/lib/python3.8/dist-packages (from tensorflow-datasets) (1.15.0)\n",
            "Requirement already satisfied: protobuf>=3.12.2 in /usr/local/lib/python3.8/dist-packages (from tensorflow-datasets) (3.19.6)\n",
            "Requirement already satisfied: tensorflow-metadata in /usr/local/lib/python3.8/dist-packages (from tensorflow-datasets) (1.12.0)\n",
            "Requirement already satisfied: typing_extensions in /usr/local/lib/python3.8/dist-packages (from etils[enp,epath]>=0.9.0->tensorflow-datasets) (4.5.0)\n",
            "Requirement already satisfied: zipp in /usr/local/lib/python3.8/dist-packages (from etils[enp,epath]>=0.9.0->tensorflow-datasets) (3.15.0)\n",
            "Requirement already satisfied: chardet<5,>=3.0.2 in /usr/local/lib/python3.8/dist-packages (from requests>=2.19.0->tensorflow-datasets) (4.0.0)\n",
            "Requirement already satisfied: urllib3<1.27,>=1.21.1 in /usr/local/lib/python3.8/dist-packages (from requests>=2.19.0->tensorflow-datasets) (1.26.14)\n",
            "Requirement already satisfied: certifi>=2017.4.17 in /usr/local/lib/python3.8/dist-packages (from requests>=2.19.0->tensorflow-datasets) (2022.12.7)\n",
            "Requirement already satisfied: idna<3,>=2.5 in /usr/local/lib/python3.8/dist-packages (from requests>=2.19.0->tensorflow-datasets) (2.10)\n",
            "Requirement already satisfied: six in /usr/local/lib/python3.8/dist-packages (from promise->tensorflow-datasets) (1.15.0)\n",
            "Requirement already satisfied: googleapis-common-protos<2,>=1.52.0 in /usr/local/lib/python3.8/dist-packages (from tensorflow-metadata->tensorflow-datasets) (1.58.0)\n",
            "Looking in indexes: https://pypi.org/simple, https://us-python.pkg.dev/colab-wheels/public/simple/\n",
            "Requirement already satisfied: protobuf==3.19.6 in /usr/local/lib/python3.8/dist-packages (3.19.6)\n",
            "Looking in indexes: https://pypi.org/simple, https://us-python.pkg.dev/colab-wheels/public/simple/\n",
            "Requirement already satisfied: tensorboard-data-server==0.6.1 in /usr/local/lib/python3.8/dist-packages (0.6.1)\n",
            "2.11.0\n"
          ]
        }
      ],
      "source": [
        "import tensorflow as tf\n",
        "import pandas as pd\n",
        "from tensorflow import keras\n",
        "from tensorflow.keras.models import Sequential\n",
        "from tensorflow.keras.layers import Dense, Embedding, LSTM\n",
        "!pip install tensorflow-datasets\n",
        "!pip install protobuf==3.19.6\n",
        "!pip install tensorboard-data-server==0.6.1\n",
        "import tensorflow_datasets as tfds\n",
        "import numpy as np\n",
        "import matplotlib.pyplot as plt\n",
        "\n",
        "print(tf.__version__)"
      ]
    },
    {
      "cell_type": "code",
      "execution_count": 2,
      "metadata": {
        "id": "lMHwYXHXCar3",
        "colab": {
          "base_uri": "https://localhost:8080/"
        },
        "outputId": "b9ac7c88-3371-44d1-b0e9-ca9314f52f1c"
      },
      "outputs": [
        {
          "output_type": "stream",
          "name": "stdout",
          "text": [
            "--2023-03-05 02:53:28--  https://cdn.freecodecamp.org/project-data/sms/train-data.tsv\n",
            "Resolving cdn.freecodecamp.org (cdn.freecodecamp.org)... 104.26.3.33, 172.67.70.149, 104.26.2.33, ...\n",
            "Connecting to cdn.freecodecamp.org (cdn.freecodecamp.org)|104.26.3.33|:443... connected.\n",
            "HTTP request sent, awaiting response... 200 OK\n",
            "Length: 358233 (350K) [text/tab-separated-values]\n",
            "Saving to: ‘train-data.tsv’\n",
            "\n",
            "train-data.tsv      100%[===================>] 349.84K  1.67MB/s    in 0.2s    \n",
            "\n",
            "2023-03-05 02:53:28 (1.67 MB/s) - ‘train-data.tsv’ saved [358233/358233]\n",
            "\n",
            "--2023-03-05 02:53:28--  https://cdn.freecodecamp.org/project-data/sms/valid-data.tsv\n",
            "Resolving cdn.freecodecamp.org (cdn.freecodecamp.org)... 104.26.3.33, 172.67.70.149, 104.26.2.33, ...\n",
            "Connecting to cdn.freecodecamp.org (cdn.freecodecamp.org)|104.26.3.33|:443... connected.\n",
            "HTTP request sent, awaiting response... 200 OK\n",
            "Length: 118774 (116K) [text/tab-separated-values]\n",
            "Saving to: ‘valid-data.tsv’\n",
            "\n",
            "valid-data.tsv      100%[===================>] 115.99K  --.-KB/s    in 0.01s   \n",
            "\n",
            "2023-03-05 02:53:29 (7.91 MB/s) - ‘valid-data.tsv’ saved [118774/118774]\n",
            "\n"
          ]
        }
      ],
      "source": [
        "# get data files\n",
        "!wget https://cdn.freecodecamp.org/project-data/sms/train-data.tsv\n",
        "!wget https://cdn.freecodecamp.org/project-data/sms/valid-data.tsv\n",
        "\n",
        "train_file_path = \"train-data.tsv\"\n",
        "test_file_path = \"valid-data.tsv\""
      ]
    },
    {
      "cell_type": "code",
      "execution_count": 3,
      "metadata": {
        "id": "g_h508FEClxO"
      },
      "outputs": [],
      "source": [
        "train_df = pd.read_csv(train_file_path, sep='\\t', header=None, names=['label', 'message'])\n",
        "test_df = pd.read_csv(test_file_path, sep='\\t', header=None, names=['label', 'message'])"
      ]
    },
    {
      "cell_type": "code",
      "source": [
        "label_dict = {'ham':0, 'spam':1}\n",
        "train_df['label'] = train_df['label'].map(label_dict)\n",
        "test_df['label'] = test_df['label'].map(label_dict)"
      ],
      "metadata": {
        "id": "3Ewqbq96tthb"
      },
      "execution_count": 4,
      "outputs": []
    },
    {
      "cell_type": "code",
      "source": [
        "vocab = []\n",
        "for i, row in train_df.iterrows():\n",
        "  vocab.append(row['message'].split())"
      ],
      "metadata": {
        "id": "AFlZPn6heCNx"
      },
      "execution_count": 5,
      "outputs": []
    },
    {
      "cell_type": "code",
      "source": [
        "vocab = [word for line in vocab for word in line]\n",
        "VOCAB_SIZE = len(set(vocab))"
      ],
      "metadata": {
        "id": "mVzjvJQcnkUG"
      },
      "execution_count": 6,
      "outputs": []
    },
    {
      "cell_type": "code",
      "execution_count": 7,
      "metadata": {
        "id": "zOMKywn4zReN"
      },
      "outputs": [],
      "source": [
        "encoder = tf.keras.layers.TextVectorization(max_tokens=VOCAB_SIZE)\n",
        "encoder.adapt(train_df['message'].values)"
      ]
    },
    {
      "cell_type": "code",
      "source": [
        "model = Sequential(encoder)\n",
        "model.add(Embedding(input_dim=len(encoder.get_vocabulary()), output_dim=64, mask_zero=True))\n",
        "model.add(LSTM(64))\n",
        "model.add(Dense(64, activation='relu'))\n",
        "model.add(Dense(1, activation='sigmoid'))\n",
        "model.compile(optimizer='adam', loss='binary_crossentropy', metrics=['accuracy'])"
      ],
      "metadata": {
        "id": "qv6LmeAUdjiX"
      },
      "execution_count": 8,
      "outputs": []
    },
    {
      "cell_type": "code",
      "source": [
        "model.summary()"
      ],
      "metadata": {
        "id": "1zv0aUsorjqI",
        "colab": {
          "base_uri": "https://localhost:8080/"
        },
        "outputId": "659aca50-2574-4a5d-af83-6991f634bdb4"
      },
      "execution_count": 9,
      "outputs": [
        {
          "output_type": "stream",
          "name": "stdout",
          "text": [
            "Model: \"sequential\"\n",
            "_________________________________________________________________\n",
            " Layer (type)                Output Shape              Param #   \n",
            "=================================================================\n",
            " text_vectorization (TextVec  (None, None)             0         \n",
            " torization)                                                     \n",
            "                                                                 \n",
            " embedding (Embedding)       (None, None, 64)          523584    \n",
            "                                                                 \n",
            " lstm (LSTM)                 (None, 64)                33024     \n",
            "                                                                 \n",
            " dense (Dense)               (None, 64)                4160      \n",
            "                                                                 \n",
            " dense_1 (Dense)             (None, 1)                 65        \n",
            "                                                                 \n",
            "=================================================================\n",
            "Total params: 560,833\n",
            "Trainable params: 560,833\n",
            "Non-trainable params: 0\n",
            "_________________________________________________________________\n"
          ]
        }
      ]
    },
    {
      "cell_type": "code",
      "source": [
        "history = model.fit(x=train_df['message'].values, y=train_df['label'].values, epochs=40, validation_split=0.2)"
      ],
      "metadata": {
        "id": "VUqV7iXYpXPo",
        "colab": {
          "base_uri": "https://localhost:8080/"
        },
        "outputId": "7951cb8a-7d63-49e6-c83e-d8712e08617e"
      },
      "execution_count": 10,
      "outputs": [
        {
          "output_type": "stream",
          "name": "stdout",
          "text": [
            "Epoch 1/40\n",
            "105/105 [==============================] - 31s 163ms/step - loss: 0.2771 - accuracy: 0.9138 - val_loss: 0.0588 - val_accuracy: 0.9904\n",
            "Epoch 2/40\n",
            "105/105 [==============================] - 9s 88ms/step - loss: 0.0297 - accuracy: 0.9937 - val_loss: 0.0697 - val_accuracy: 0.9856\n",
            "Epoch 3/40\n",
            "105/105 [==============================] - 5s 52ms/step - loss: 0.0085 - accuracy: 0.9991 - val_loss: 0.0661 - val_accuracy: 0.9833\n",
            "Epoch 4/40\n",
            "105/105 [==============================] - 3s 32ms/step - loss: 0.0058 - accuracy: 0.9982 - val_loss: 0.0558 - val_accuracy: 0.9833\n",
            "Epoch 5/40\n",
            "105/105 [==============================] - 3s 31ms/step - loss: 0.0018 - accuracy: 0.9997 - val_loss: 0.0652 - val_accuracy: 0.9868\n",
            "Epoch 6/40\n",
            "105/105 [==============================] - 4s 38ms/step - loss: 6.7931e-04 - accuracy: 1.0000 - val_loss: 0.0712 - val_accuracy: 0.9821\n",
            "Epoch 7/40\n",
            "105/105 [==============================] - 2s 20ms/step - loss: 4.8602e-04 - accuracy: 1.0000 - val_loss: 0.0747 - val_accuracy: 0.9833\n",
            "Epoch 8/40\n",
            "105/105 [==============================] - 3s 28ms/step - loss: 4.1457e-04 - accuracy: 1.0000 - val_loss: 0.0777 - val_accuracy: 0.9833\n",
            "Epoch 9/40\n",
            "105/105 [==============================] - 2s 21ms/step - loss: 3.7134e-04 - accuracy: 1.0000 - val_loss: 0.0807 - val_accuracy: 0.9833\n",
            "Epoch 10/40\n",
            "105/105 [==============================] - 3s 29ms/step - loss: 3.4148e-04 - accuracy: 1.0000 - val_loss: 0.0836 - val_accuracy: 0.9821\n",
            "Epoch 11/40\n",
            "105/105 [==============================] - 2s 17ms/step - loss: 3.1698e-04 - accuracy: 1.0000 - val_loss: 0.0861 - val_accuracy: 0.9821\n",
            "Epoch 12/40\n",
            "105/105 [==============================] - 2s 23ms/step - loss: 2.9873e-04 - accuracy: 1.0000 - val_loss: 0.0886 - val_accuracy: 0.9821\n",
            "Epoch 13/40\n",
            "105/105 [==============================] - 3s 25ms/step - loss: 2.8403e-04 - accuracy: 1.0000 - val_loss: 0.0910 - val_accuracy: 0.9821\n",
            "Epoch 14/40\n",
            "105/105 [==============================] - 2s 20ms/step - loss: 2.7072e-04 - accuracy: 1.0000 - val_loss: 0.0932 - val_accuracy: 0.9821\n",
            "Epoch 15/40\n",
            "105/105 [==============================] - 2s 20ms/step - loss: 2.6029e-04 - accuracy: 1.0000 - val_loss: 0.0955 - val_accuracy: 0.9821\n",
            "Epoch 16/40\n",
            "105/105 [==============================] - 3s 26ms/step - loss: 2.5138e-04 - accuracy: 1.0000 - val_loss: 0.0976 - val_accuracy: 0.9821\n",
            "Epoch 17/40\n",
            "105/105 [==============================] - 2s 17ms/step - loss: 2.4301e-04 - accuracy: 1.0000 - val_loss: 0.0996 - val_accuracy: 0.9821\n",
            "Epoch 18/40\n",
            "105/105 [==============================] - 2s 23ms/step - loss: 2.3563e-04 - accuracy: 1.0000 - val_loss: 0.1014 - val_accuracy: 0.9821\n",
            "Epoch 19/40\n",
            "105/105 [==============================] - 2s 20ms/step - loss: 2.2901e-04 - accuracy: 1.0000 - val_loss: 0.1036 - val_accuracy: 0.9821\n",
            "Epoch 20/40\n",
            "105/105 [==============================] - 2s 19ms/step - loss: 2.2179e-04 - accuracy: 1.0000 - val_loss: 0.1055 - val_accuracy: 0.9821\n",
            "Epoch 21/40\n",
            "105/105 [==============================] - 3s 30ms/step - loss: 2.1532e-04 - accuracy: 1.0000 - val_loss: 0.1073 - val_accuracy: 0.9821\n",
            "Epoch 22/40\n",
            "105/105 [==============================] - 2s 19ms/step - loss: 2.0839e-04 - accuracy: 1.0000 - val_loss: 0.1090 - val_accuracy: 0.9821\n",
            "Epoch 23/40\n",
            "105/105 [==============================] - 2s 16ms/step - loss: 2.0187e-04 - accuracy: 1.0000 - val_loss: 0.1109 - val_accuracy: 0.9821\n",
            "Epoch 24/40\n",
            "105/105 [==============================] - 2s 17ms/step - loss: 1.9654e-04 - accuracy: 1.0000 - val_loss: 0.1127 - val_accuracy: 0.9821\n",
            "Epoch 25/40\n",
            "105/105 [==============================] - 2s 18ms/step - loss: 1.8886e-04 - accuracy: 1.0000 - val_loss: 0.1145 - val_accuracy: 0.9809\n",
            "Epoch 26/40\n",
            "105/105 [==============================] - 2s 16ms/step - loss: 1.8223e-04 - accuracy: 1.0000 - val_loss: 0.1166 - val_accuracy: 0.9809\n",
            "Epoch 27/40\n",
            "105/105 [==============================] - 3s 30ms/step - loss: 1.7569e-04 - accuracy: 1.0000 - val_loss: 0.1184 - val_accuracy: 0.9809\n",
            "Epoch 28/40\n",
            "105/105 [==============================] - 2s 17ms/step - loss: 1.6908e-04 - accuracy: 1.0000 - val_loss: 0.1203 - val_accuracy: 0.9809\n",
            "Epoch 29/40\n",
            "105/105 [==============================] - 2s 21ms/step - loss: 1.6253e-04 - accuracy: 1.0000 - val_loss: 0.1223 - val_accuracy: 0.9809\n",
            "Epoch 30/40\n",
            "105/105 [==============================] - 2s 17ms/step - loss: 1.5645e-04 - accuracy: 1.0000 - val_loss: 0.1243 - val_accuracy: 0.9809\n",
            "Epoch 31/40\n",
            "105/105 [==============================] - 2s 17ms/step - loss: 1.4988e-04 - accuracy: 1.0000 - val_loss: 0.1261 - val_accuracy: 0.9809\n",
            "Epoch 32/40\n",
            "105/105 [==============================] - 2s 16ms/step - loss: 1.4313e-04 - accuracy: 1.0000 - val_loss: 0.1279 - val_accuracy: 0.9809\n",
            "Epoch 33/40\n",
            "105/105 [==============================] - 2s 23ms/step - loss: 1.3686e-04 - accuracy: 1.0000 - val_loss: 0.1300 - val_accuracy: 0.9809\n",
            "Epoch 34/40\n",
            "105/105 [==============================] - 3s 24ms/step - loss: 1.3040e-04 - accuracy: 1.0000 - val_loss: 0.1316 - val_accuracy: 0.9809\n",
            "Epoch 35/40\n",
            "105/105 [==============================] - 2s 17ms/step - loss: 1.2308e-04 - accuracy: 1.0000 - val_loss: 0.1343 - val_accuracy: 0.9809\n",
            "Epoch 36/40\n",
            "105/105 [==============================] - 2s 17ms/step - loss: 1.1502e-04 - accuracy: 1.0000 - val_loss: 0.1362 - val_accuracy: 0.9809\n",
            "Epoch 37/40\n",
            "105/105 [==============================] - 2s 17ms/step - loss: 1.0928e-04 - accuracy: 1.0000 - val_loss: 0.1381 - val_accuracy: 0.9809\n",
            "Epoch 38/40\n",
            "105/105 [==============================] - 2s 15ms/step - loss: 1.0439e-04 - accuracy: 1.0000 - val_loss: 0.1400 - val_accuracy: 0.9809\n",
            "Epoch 39/40\n",
            "105/105 [==============================] - 2s 22ms/step - loss: 9.8023e-05 - accuracy: 1.0000 - val_loss: 0.1417 - val_accuracy: 0.9809\n",
            "Epoch 40/40\n",
            "105/105 [==============================] - 2s 23ms/step - loss: 9.2767e-05 - accuracy: 1.0000 - val_loss: 0.1437 - val_accuracy: 0.9809\n"
          ]
        }
      ]
    },
    {
      "cell_type": "code",
      "execution_count": 11,
      "metadata": {
        "id": "J9tD9yACG6M9",
        "colab": {
          "base_uri": "https://localhost:8080/"
        },
        "outputId": "bf71ef55-b52f-4c2c-9344-c9f432ba27b8"
      },
      "outputs": [
        {
          "output_type": "stream",
          "name": "stdout",
          "text": [
            "1/1 [==============================] - 2s 2s/step\n",
            "[2.2831563e-09, 'ham']\n"
          ]
        }
      ],
      "source": [
        "# function to predict messages based on model\n",
        "# (should return list containing prediction and label, ex. [0.008318834938108921, 'ham'])\n",
        "def predict_message(pred_text):\n",
        "  prediction = list(model.predict([pred_text])[0])\n",
        "  if prediction[0] < 0.5:\n",
        "    prediction.append('ham')\n",
        "  else:\n",
        "    prediction.append('spam')\n",
        "  return (prediction)\n",
        "\n",
        "pred_text = \"how are you doing today?\"\n",
        "\n",
        "prediction = predict_message(pred_text)\n",
        "print(prediction)"
      ]
    },
    {
      "cell_type": "code",
      "execution_count": 12,
      "metadata": {
        "id": "Dxotov85SjsC",
        "colab": {
          "base_uri": "https://localhost:8080/"
        },
        "outputId": "1ceb833f-2fa6-49bd-a157-1cc92fa2132c"
      },
      "outputs": [
        {
          "output_type": "stream",
          "name": "stdout",
          "text": [
            "1/1 [==============================] - 0s 45ms/step\n",
            "1/1 [==============================] - 0s 37ms/step\n",
            "1/1 [==============================] - 0s 40ms/step\n",
            "1/1 [==============================] - 0s 39ms/step\n",
            "1/1 [==============================] - 0s 40ms/step\n",
            "1/1 [==============================] - 0s 39ms/step\n",
            "1/1 [==============================] - 0s 49ms/step\n",
            "You passed the challenge. Great job!\n"
          ]
        }
      ],
      "source": [
        "# Run this cell to test your function and model. Do not modify contents.\n",
        "def test_predictions():\n",
        "  test_messages = [\"how are you doing today\",\n",
        "                   \"sale today! to stop texts call 98912460324\",\n",
        "                   \"i dont want to go. can we try it a different day? available sat\",\n",
        "                   \"our new mobile video service is live. just install on your phone to start watching.\",\n",
        "                   \"you have won £1000 cash! call to claim your prize.\",\n",
        "                   \"i'll bring it tomorrow. don't forget the milk.\",\n",
        "                   \"wow, is your arm alright. that happened to me one time too\"\n",
        "                  ]\n",
        "\n",
        "  test_answers = [\"ham\", \"spam\", \"ham\", \"spam\", \"spam\", \"ham\", \"ham\"]\n",
        "  passed = True\n",
        "\n",
        "  for msg, ans in zip(test_messages, test_answers):\n",
        "    prediction = predict_message(msg)\n",
        "    if prediction[1] != ans:\n",
        "      passed = False\n",
        "\n",
        "  if passed:\n",
        "    print(\"You passed the challenge. Great job!\")\n",
        "  else:\n",
        "    print(\"You haven't passed yet. Keep trying.\")\n",
        "\n",
        "test_predictions()\n"
      ]
    }
  ],
  "metadata": {
    "colab": {
      "provenance": [],
      "include_colab_link": true
    },
    "kernelspec": {
      "display_name": "Python 3",
      "name": "python3"
    },
    "language_info": {},
    "accelerator": "GPU",
    "gpuClass": "standard"
  },
  "nbformat": 4,
  "nbformat_minor": 0
}